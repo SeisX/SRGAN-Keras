{
  "nbformat": 4,
  "nbformat_minor": 0,
  "metadata": {
    "colab": {
      "name": "Keras-SRGAN.ipynb",
      "version": "0.3.2",
      "provenance": [],
      "include_colab_link": true
    },
    "kernelspec": {
      "name": "python3",
      "display_name": "Python 3"
    }
  },
  "cells": [
    {
      "cell_type": "markdown",
      "metadata": {
        "id": "view-in-github",
        "colab_type": "text"
      },
      "source": [
        "<a href=\"https://colab.research.google.com/github/SeisX/SRGAN-Keras/blob/master/Keras_SRGAN.ipynb\" target=\"_parent\"><img src=\"https://colab.research.google.com/assets/colab-badge.svg\" alt=\"Open In Colab\"/></a>"
      ]
    },
    {
      "cell_type": "markdown",
      "metadata": {
        "id": "sBra0xBL094p",
        "colab_type": "text"
      },
      "source": [
        "# Define SRGAN Model\n"
      ]
    },
    {
      "cell_type": "code",
      "metadata": {
        "id": "-zEj_hbH1do7",
        "colab_type": "code",
        "colab": {}
      },
      "source": [
        ""
      ],
      "execution_count": 0,
      "outputs": []
    },
    {
      "cell_type": "markdown",
      "metadata": {
        "id": "X3WuHDqu1J_F",
        "colab_type": "text"
      },
      "source": [
        "# Some Utilities Used in SRGAN Model"
      ]
    },
    {
      "cell_type": "code",
      "metadata": {
        "id": "q9_QTa8A1E96",
        "colab_type": "code",
        "colab": {}
      },
      "source": [
        ""
      ],
      "execution_count": 0,
      "outputs": []
    }
  ]
}